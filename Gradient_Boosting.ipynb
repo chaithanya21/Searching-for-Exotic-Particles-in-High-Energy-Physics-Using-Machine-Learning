{
  "nbformat": 4,
  "nbformat_minor": 0,
  "metadata": {
    "colab": {
      "name": "Gradient Boosting",
      "provenance": [],
      "collapsed_sections": []
    },
    "kernelspec": {
      "name": "python3",
      "display_name": "Python 3"
    }
  },
  "cells": [
    {
      "cell_type": "code",
      "metadata": {
        "id": "_Hz01qBYiejW",
        "colab_type": "code",
        "colab": {}
      },
      "source": [
        "import numpy as np\n",
        "import pandas as pd\n",
        "import matplotlib.pyplot as plt\n",
        "import seaborn as sns\n",
        "import h5py\n",
        "import scipy\n",
        "import itertools  \n",
        "import time"
      ],
      "execution_count": 0,
      "outputs": []
    },
    {
      "cell_type": "code",
      "metadata": {
        "id": "K-L54xeNillJ",
        "colab_type": "code",
        "colab": {}
      },
      "source": [
        "url='https://archive.ics.uci.edu/ml/machine-learning-databases/00279/SUSY.csv.gz'"
      ],
      "execution_count": 0,
      "outputs": []
    },
    {
      "cell_type": "code",
      "metadata": {
        "id": "3vXnUp1uioSQ",
        "colab_type": "code",
        "colab": {}
      },
      "source": [
        "coloumn_names=['Class_Label','lepton 1 pT', 'lepton 1 eta', 'lepton 1 phi', 'lepton 2 pT', 'lepton 2 eta', 'lepton 2 phi', 'missing energy magnitude', 'missing energy phi', 'MET_rel', 'axial MET',' M_R', \n",
        "               'M_TR_2', 'R', 'MT2', 'S_R', 'M_Delta_R', 'dPhi_r_b', 'cos(theta_r1)']"
      ],
      "execution_count": 0,
      "outputs": []
    },
    {
      "cell_type": "code",
      "metadata": {
        "id": "2a52cPqkip40",
        "colab_type": "code",
        "colab": {}
      },
      "source": [
        "PM_DF=pd.read_csv(url,header=None,index_col=False,names=coloumn_names)"
      ],
      "execution_count": 0,
      "outputs": []
    },
    {
      "cell_type": "code",
      "metadata": {
        "id": "dXIXSCU0irlu",
        "colab_type": "code",
        "colab": {}
      },
      "source": [
        "Features=PM_DF.drop('Class_Label',axis=1)"
      ],
      "execution_count": 0,
      "outputs": []
    },
    {
      "cell_type": "code",
      "metadata": {
        "id": "-fIjPMmzitoX",
        "colab_type": "code",
        "colab": {}
      },
      "source": [
        "Labels=PM_DF['Class_Label']"
      ],
      "execution_count": 0,
      "outputs": []
    },
    {
      "cell_type": "code",
      "metadata": {
        "id": "5Zu8ydQWivOf",
        "colab_type": "code",
        "outputId": "987e97e3-383e-4a45-9dd6-23832e3a787c",
        "colab": {
          "base_uri": "https://localhost:8080/",
          "height": 34
        }
      },
      "source": [
        "print(Features.shape , Labels.shape)"
      ],
      "execution_count": 0,
      "outputs": [
        {
          "output_type": "stream",
          "text": [
            "(5000000, 18) (5000000,)\n"
          ],
          "name": "stdout"
        }
      ]
    },
    {
      "cell_type": "code",
      "metadata": {
        "id": "uQbvmwBZixF6",
        "colab_type": "code",
        "colab": {}
      },
      "source": [
        "from sklearn.ensemble import  GradientBoostingClassifier\n",
        "from sklearn.model_selection import train_test_split,StratifiedKFold,cross_validate\n",
        "from sklearn.metrics import confusion_matrix, accuracy_score, precision_score, recall_score, f1_score, roc_auc_score, make_scorer"
      ],
      "execution_count": 0,
      "outputs": []
    },
    {
      "cell_type": "code",
      "metadata": {
        "id": "wcRN7-1RjLUP",
        "colab_type": "code",
        "colab": {}
      },
      "source": [
        "x_train,x_test,y_train,y_test=train_test_split(Features,Labels,test_size=0.33,random_state=1,shuffle=True)"
      ],
      "execution_count": 0,
      "outputs": []
    },
    {
      "cell_type": "code",
      "metadata": {
        "id": "Wkd2StuxjPnY",
        "colab_type": "code",
        "outputId": "aa185f68-3bb1-4e05-acb1-de383cb0f010",
        "colab": {
          "base_uri": "https://localhost:8080/",
          "height": 34
        }
      },
      "source": [
        "print(x_train.shape,x_test.shape,y_train.shape,y_test.shape)"
      ],
      "execution_count": 0,
      "outputs": [
        {
          "output_type": "stream",
          "text": [
            "(3350000, 18) (1650000, 18) (3350000,) (1650000,)\n"
          ],
          "name": "stdout"
        }
      ]
    },
    {
      "cell_type": "code",
      "metadata": {
        "id": "ii1HO_NsjRlD",
        "colab_type": "code",
        "outputId": "97c73345-082d-47c8-f47b-9a44bc421332",
        "colab": {
          "base_uri": "https://localhost:8080/",
          "height": 187
        }
      },
      "source": [
        "print(GradientBoostingClassifier())"
      ],
      "execution_count": 0,
      "outputs": [
        {
          "output_type": "stream",
          "text": [
            "GradientBoostingClassifier(criterion='friedman_mse', init=None,\n",
            "                           learning_rate=0.1, loss='deviance', max_depth=3,\n",
            "                           max_features=None, max_leaf_nodes=None,\n",
            "                           min_impurity_decrease=0.0, min_impurity_split=None,\n",
            "                           min_samples_leaf=1, min_samples_split=2,\n",
            "                           min_weight_fraction_leaf=0.0, n_estimators=100,\n",
            "                           n_iter_no_change=None, presort='auto',\n",
            "                           random_state=None, subsample=1.0, tol=0.0001,\n",
            "                           validation_fraction=0.1, verbose=0,\n",
            "                           warm_start=False)\n"
          ],
          "name": "stdout"
        }
      ]
    },
    {
      "cell_type": "code",
      "metadata": {
        "id": "DyuN11qJjXLo",
        "colab_type": "code",
        "colab": {}
      },
      "source": [
        "GB_MODEL=GradientBoostingClassifier()"
      ],
      "execution_count": 0,
      "outputs": []
    },
    {
      "cell_type": "code",
      "metadata": {
        "id": "In_Xexf_jyLe",
        "colab_type": "code",
        "outputId": "448a69ad-1a9c-42a3-8c9b-49db0fb40f39",
        "colab": {
          "base_uri": "https://localhost:8080/",
          "height": 187
        }
      },
      "source": [
        "GB_MODEL.fit(x_train,y_train)"
      ],
      "execution_count": 0,
      "outputs": [
        {
          "output_type": "execute_result",
          "data": {
            "text/plain": [
              "GradientBoostingClassifier(criterion='friedman_mse', init=None,\n",
              "                           learning_rate=0.1, loss='deviance', max_depth=3,\n",
              "                           max_features=None, max_leaf_nodes=None,\n",
              "                           min_impurity_decrease=0.0, min_impurity_split=None,\n",
              "                           min_samples_leaf=1, min_samples_split=2,\n",
              "                           min_weight_fraction_leaf=0.0, n_estimators=100,\n",
              "                           n_iter_no_change=None, presort='auto',\n",
              "                           random_state=None, subsample=1.0, tol=0.0001,\n",
              "                           validation_fraction=0.1, verbose=0,\n",
              "                           warm_start=False)"
            ]
          },
          "metadata": {
            "tags": []
          },
          "execution_count": 13
        }
      ]
    },
    {
      "cell_type": "code",
      "metadata": {
        "id": "5kMGtBcQj1-F",
        "colab_type": "code",
        "colab": {}
      },
      "source": [
        "y_pred=GB_MODEL.predict(x_test)"
      ],
      "execution_count": 0,
      "outputs": []
    },
    {
      "cell_type": "markdown",
      "metadata": {
        "id": "w2XXN-bozLew",
        "colab_type": "text"
      },
      "source": [
        ""
      ]
    },
    {
      "cell_type": "code",
      "metadata": {
        "id": "ODQPPza2j7Gj",
        "colab_type": "code",
        "colab": {}
      },
      "source": [
        "def plot_confusion_matrix(cm, classes,\n",
        "                          normalize=True,\n",
        "                          title='Confusion matrix',\n",
        "                          cmap=plt.cm.Blues):\n",
        "    \"\"\"\n",
        "    This function prints and plots the confusion matrix.\n",
        "    Normalization can be applied by setting `normalize=True`.\n",
        "    \"\"\"\n",
        "    if normalize:\n",
        "        cm = cm.astype('float') / cm.sum(axis=1)[:, np.newaxis]\n",
        "        print(\"Normalized confusion matrix\")\n",
        "    else:\n",
        "        print('Confusion matrix, without normalization')\n",
        "\n",
        "    print(cm)\n",
        "\n",
        "    plt.imshow(cm, interpolation='nearest', cmap=cmap)\n",
        "    plt.title(title)\n",
        "    plt.colorbar()\n",
        "    tick_marks = np.arange(len(classes))\n",
        "    plt.xticks(tick_marks, classes, rotation=45)\n",
        "    plt.yticks(tick_marks, classes)\n",
        "\n",
        "    fmt = '.2f' if normalize else 'd'\n",
        "    thresh = cm.max() / 2.\n",
        "    for i, j in itertools.product(range(cm.shape[0]), range(cm.shape[1])):\n",
        "        plt.text(j, i, format(cm[i, j], fmt),\n",
        "                 horizontalalignment=\"center\",\n",
        "                 color=\"white\" if cm[i, j] > thresh else \"black\")\n",
        "\n",
        "    plt.ylabel('True label')\n",
        "    plt.xlabel('Predicted label')\n",
        "    plt.tight_layout()\n"
      ],
      "execution_count": 0,
      "outputs": []
    },
    {
      "cell_type": "code",
      "metadata": {
        "id": "IRbYB7mHsfAC",
        "colab_type": "code",
        "colab": {}
      },
      "source": [
        "cnf_matrix = confusion_matrix(y_test, y_pred)"
      ],
      "execution_count": 0,
      "outputs": []
    },
    {
      "cell_type": "code",
      "metadata": {
        "id": "C7DyPtl9shDl",
        "colab_type": "code",
        "outputId": "6098147b-cd1e-4f6f-bd6b-655610babedd",
        "colab": {
          "base_uri": "https://localhost:8080/",
          "height": 347
        }
      },
      "source": [
        "plt.figure()\n",
        "plot_confusion_matrix(cnf_matrix, classes=['MBP','BN'],\n",
        "                      title='Confusion matrix, with normalization')"
      ],
      "execution_count": 0,
      "outputs": [
        {
          "output_type": "stream",
          "text": [
            "Normalized confusion matrix\n",
            "[[0.87146005 0.12853995]\n",
            " [0.28744054 0.71255946]]\n"
          ],
          "name": "stdout"
        },
        {
          "output_type": "display_data",
          "data": {
            "image/png": "[encoded data removed]",
            "text/plain": [
              "<Figure size 432x288 with 2 Axes>"
            ]
          },
          "metadata": {
            "tags": []
          }
        }
      ]
    },
    {
      "cell_type": "code",
      "metadata": {
        "id": "lI9lOA2Ksjqi",
        "colab_type": "code",
        "outputId": "2c23d6b6-8098-480b-c83f-b08ee40f6094",
        "colab": {
          "base_uri": "https://localhost:8080/",
          "height": 85
        }
      },
      "source": [
        "tn, fp, fn, tp = confusion_matrix(y_test, y_pred).ravel()\n",
        "print(\"True Negatives: \",tn)\n",
        "print(\"False Positives: \",fp)\n",
        "print(\"False Negatives: \",fn)\n",
        "print(\"True Positives: \",tp)"
      ],
      "execution_count": 0,
      "outputs": [
        {
          "output_type": "stream",
          "text": [
            "True Negatives:  779616\n",
            "False Positives:  114993\n",
            "False Negatives:  217130\n",
            "True Positives:  538261\n"
          ],
          "name": "stdout"
        }
      ]
    },
    {
      "cell_type": "code",
      "metadata": {
        "id": "hXLkS43OsncC",
        "colab_type": "code",
        "outputId": "88df1611-9377-4f64-c0f9-88b09b3a79a5",
        "colab": {
          "base_uri": "https://localhost:8080/",
          "height": 85
        }
      },
      "source": [
        "Accuracy = (tn+tp)*100/(tp+tn+fp+fn) \n",
        "print(\"Accuracy {:0.2f}%:\".format(Accuracy))\n",
        "\n",
        "Precision = tp/(tp+fp) \n",
        "print(\"Precision {:0.2f}\".format(Precision))\n",
        "\n",
        "#Recall \n",
        "Recall = tp/(tp+fn) \n",
        "print(\"Recall {:0.2f}\".format(Recall))\n",
        "\n",
        "#F1 Score\n",
        "f1 = (2*Precision*Recall)/(Precision + Recall)\n",
        "print(\"F1 Score {:0.2f}\".format(f1))"
      ],
      "execution_count": 0,
      "outputs": [
        {
          "output_type": "stream",
          "text": [
            "Accuracy 79.87%:\n",
            "Precision 0.82\n",
            "Recall 0.71\n",
            "F1 Score 0.76\n"
          ],
          "name": "stdout"
        }
      ]
    },
    {
      "cell_type": "code",
      "metadata": {
        "id": "snybH5FdspgS",
        "colab_type": "code",
        "outputId": "fa789262-00fb-4f02-91fa-9fd46594a552",
        "colab": {
          "base_uri": "https://localhost:8080/",
          "height": 34
        }
      },
      "source": [
        "GB_MODEL.score(x_test,y_test)"
      ],
      "execution_count": 0,
      "outputs": [
        {
          "output_type": "execute_result",
          "data": {
            "text/plain": [
              "0.7987133333333334"
            ]
          },
          "metadata": {
            "tags": []
          },
          "execution_count": 20
        }
      ]
    },
    {
      "cell_type": "code",
      "metadata": {
        "id": "mgyCm04Ms552",
        "colab_type": "code",
        "colab": {}
      },
      "source": [
        "F_imp=pd.Series(GB_MODEL.feature_importances_,index=Features.columns)"
      ],
      "execution_count": 0,
      "outputs": []
    },
    {
      "cell_type": "code",
      "metadata": {
        "id": "uGe_azyMs9W3",
        "colab_type": "code",
        "colab": {}
      },
      "source": [
        "nfolds = 10\n",
        "def tn(y_true, y_pred): \n",
        "\treturn confusion_matrix(y_true, y_pred)[0, 0]\n",
        "def fp(y_true, y_pred): \n",
        "\treturn confusion_matrix(y_true, y_pred)[0, 1]\n",
        "def fn(y_true, y_pred): \n",
        "\treturn confusion_matrix(y_true, y_pred)[1, 0]\n",
        "def tp(y_true, y_pred): \n",
        "\treturn confusion_matrix(y_true, y_pred)[1, 1]"
      ],
      "execution_count": 0,
      "outputs": []
    },
    {
      "cell_type": "code",
      "metadata": {
        "id": "D-jO4F5HtFHy",
        "colab_type": "code",
        "colab": {}
      },
      "source": [
        "scoring = {'tp': make_scorer(tp), 'tn': make_scorer(tn),\n",
        "           'fp': make_scorer(fp), 'fn': make_scorer(fn),\n",
        "           'ac' : make_scorer(accuracy_score),\n",
        "           're' : make_scorer(recall_score),\n",
        "           'pr' : make_scorer(precision_score),\n",
        "           'f1' : make_scorer(f1_score),\n",
        "           'auc' : make_scorer(roc_auc_score),\n",
        "          } "
      ],
      "execution_count": 0,
      "outputs": []
    },
    {
      "cell_type": "code",
      "metadata": {
        "id": "bO2Kvtz6RW7l",
        "colab_type": "code",
        "colab": {}
      },
      "source": [
        "import sklearn.metrics as metrics\n",
        "probs = GB_MODEL.predict_proba(x_test)\n",
        "preds = probs[:,1]\n",
        "fpr, tpr, threshold = metrics.roc_curve(y_test, preds)\n",
        "roc_auc = metrics.auc(fpr, tpr)"
      ],
      "execution_count": 0,
      "outputs": []
    },
    {
      "cell_type": "code",
      "metadata": {
        "id": "Q375QisZRhUC",
        "colab_type": "code",
        "outputId": "51d4898a-6b7a-48cb-c0d4-3f39b583e1c0",
        "colab": {
          "base_uri": "https://localhost:8080/",
          "height": 295
        }
      },
      "source": [
        "import matplotlib.pyplot as plt\n",
        "plt.title('ROC Using GRADIENT_BOOSTING')\n",
        "plt.plot(fpr, tpr, 'b', label = 'AUC = %0.2f' % roc_auc)\n",
        "plt.legend(loc = 'lower right')\n",
        "plt.plot([0, 1], [0, 1],'r--')\n",
        "plt.xlim([0, 1])\n",
        "plt.ylim([0, 1])\n",
        "plt.ylabel('True Positive Rate')\n",
        "plt.xlabel('False Positive Rate')\n",
        "plt.show()"
      ],
      "execution_count": 0,
      "outputs": [
        {
          "output_type": "display_data",
          "data": {
            "image/png": "[encoded data removed]",
            "text/plain": [
              "<Figure size 432x288 with 1 Axes>"
            ]
          },
          "metadata": {
            "tags": []
          }
        }
      ]
    },
    {
      "cell_type": "code",
      "metadata": {
        "id": "C1d-aY2ktG5a",
        "colab_type": "code",
        "colab": {}
      },
      "source": [
        "cv_results = cross_validate(GB_MODEL, x_train, y_train, scoring=scoring, cv=StratifiedKFold(n_splits=nfolds, random_state=1))"
      ],
      "execution_count": 0,
      "outputs": []
    },
    {
      "cell_type": "code",
      "metadata": {
        "id": "1gV9vgHztI8M",
        "colab_type": "code",
        "colab": {}
      },
      "source": [
        "print('Cross Validation scores (nfolds = %d):'% nfolds)\n",
        "print('tp: ', cv_results['test_tp'], '; mean:', cv_results['test_tp'].mean())\n",
        "print('fn: ', cv_results['test_fn'], '; mean:', cv_results['test_fn'].mean())\n",
        "print('fp: ', cv_results['test_fp'], '; mean:', cv_results['test_fp'].mean())\n",
        "print('tn: ', cv_results['test_tn'], '; mean:', cv_results['test_tn'].mean())\n",
        "print('ac: ', cv_results['test_ac'], '; mean:', cv_results['test_ac'].mean())\n",
        "print('re: ', cv_results['test_re'], '; mean:', cv_results['test_re'].mean())\n",
        "print('pr: ', cv_results['test_pr'], '; mean:', cv_results['test_pr'].mean())\n",
        "print('f1: ', cv_results['test_f1'], '; mean:', cv_results['test_f1'].mean())\n",
        "print('auc: ', cv_results['test_auc'], '; mean:', cv_results['test_auc'].mean())"
      ],
      "execution_count": 0,
      "outputs": []
    }
  ]
}