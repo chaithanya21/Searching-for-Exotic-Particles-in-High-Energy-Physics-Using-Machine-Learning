{
  "nbformat": 4,
  "nbformat_minor": 0,
  "metadata": {
    "colab": {
      "name": "Decision_Tree_Selected_Attributes",
      "provenance": [],
      "collapsed_sections": []
    },
    "kernelspec": {
      "name": "python3",
      "display_name": "Python 3"
    }
  },
  "cells": [
    {
      "cell_type": "markdown",
      "metadata": {
        "id": "yTUDqRr--_ea",
        "colab_type": "text"
      },
      "source": [
        ""
      ]
    },
    {
      "cell_type": "markdown",
      "metadata": {
        "id": "hCvaiUMx_A56",
        "colab_type": "text"
      },
      "source": [
        "**DECISION TREE CLASSIFICATION ALGORITHM IMPLEMENTATION ON THE SELECTED DATA ATTRIBUTES**\n",
        "\n",
        "\n"
      ]
    },
    {
      "cell_type": "code",
      "metadata": {
        "id": "xj3mVlnx7e2y",
        "colab_type": "code",
        "colab": {}
      },
      "source": [
        "import pandas as pd\n",
        "import numpy as np\n",
        "import seaborn as sns\n",
        "import scipy\n",
        "import matplotlib.pyplot as plt\n",
        "import h5py\n",
        "import itertools  \n",
        "import time"
      ],
      "execution_count": 0,
      "outputs": []
    },
    {
      "cell_type": "code",
      "metadata": {
        "id": "EsfTkht77sPl",
        "colab_type": "code",
        "colab": {}
      },
      "source": [
        "url='https://archive.ics.uci.edu/ml/machine-learning-databases/00279/SUSY.csv.gz'"
      ],
      "execution_count": 0,
      "outputs": []
    },
    {
      "cell_type": "code",
      "metadata": {
        "id": "Zkb7abOy7u1W",
        "colab_type": "code",
        "colab": {}
      },
      "source": [
        "coloumn_names=['Class_Label','lepton 1 pT', 'lepton 1 eta', 'lepton 1 phi', 'lepton 2 pT', 'lepton 2 eta', 'lepton 2 phi', 'missing energy magnitude', 'missing energy phi', 'MET_rel', 'axial MET',' M_R', \n",
        "               'M_TR_2', 'R', 'MT2', 'S_R', 'M_Delta_R', 'dPhi_r_b', 'cos(theta_r1)']"
      ],
      "execution_count": 0,
      "outputs": []
    },
    {
      "cell_type": "code",
      "metadata": {
        "id": "1GNL4YYP7xxG",
        "colab_type": "code",
        "colab": {}
      },
      "source": [
        "DTSA_DF=pd.read_csv(url,header=None,index_col=None)"
      ],
      "execution_count": 0,
      "outputs": []
    },
    {
      "cell_type": "code",
      "metadata": {
        "id": "XTUAGTSx75B4",
        "colab_type": "code",
        "outputId": "2c3d2a9d-e54a-435d-b9d3-c5976352e846",
        "colab": {
          "base_uri": "https://localhost:8080/",
          "height": 224
        }
      },
      "source": [
        "DTSA_DF.head()"
      ],
      "execution_count": 0,
      "outputs": [
        {
          "output_type": "execute_result",
          "data": {
            "text/html": [
              "<div>\n",
              "<style scoped>\n",
              "    .dataframe tbody tr th:only-of-type {\n",
              "        vertical-align: middle;\n",
              "    }\n",
              "\n",
              "    .dataframe tbody tr th {\n",
              "        vertical-align: top;\n",
              "    }\n",
              "\n",
              "    .dataframe thead th {\n",
              "        text-align: right;\n",
              "    }\n",
              "</style>\n",
              "<table border=\"1\" class=\"dataframe\">\n",
              "  <thead>\n",
              "    <tr style=\"text-align: right;\">\n",
              "      <th></th>\n",
              "      <th>0</th>\n",
              "      <th>1</th>\n",
              "      <th>2</th>\n",
              "      <th>3</th>\n",
              "      <th>4</th>\n",
              "      <th>5</th>\n",
              "      <th>6</th>\n",
              "      <th>7</th>\n",
              "      <th>8</th>\n",
              "      <th>9</th>\n",
              "      <th>10</th>\n",
              "      <th>11</th>\n",
              "      <th>12</th>\n",
              "      <th>13</th>\n",
              "      <th>14</th>\n",
              "      <th>15</th>\n",
              "      <th>16</th>\n",
              "      <th>17</th>\n",
              "      <th>18</th>\n",
              "    </tr>\n",
              "  </thead>\n",
              "  <tbody>\n",
              "    <tr>\n",
              "      <th>0</th>\n",
              "      <td>0.0</td>\n",
              "      <td>0.972861</td>\n",
              "      <td>0.653855</td>\n",
              "      <td>1.176225</td>\n",
              "      <td>1.157156</td>\n",
              "      <td>-1.739873</td>\n",
              "      <td>-0.874309</td>\n",
              "      <td>0.567765</td>\n",
              "      <td>-0.175000</td>\n",
              "      <td>0.810061</td>\n",
              "      <td>-0.252552</td>\n",
              "      <td>1.921887</td>\n",
              "      <td>0.889637</td>\n",
              "      <td>0.410772</td>\n",
              "      <td>1.145621</td>\n",
              "      <td>1.932632</td>\n",
              "      <td>0.994464</td>\n",
              "      <td>1.367815</td>\n",
              "      <td>0.040714</td>\n",
              "    </tr>\n",
              "    <tr>\n",
              "      <th>1</th>\n",
              "      <td>1.0</td>\n",
              "      <td>1.667973</td>\n",
              "      <td>0.064191</td>\n",
              "      <td>-1.225171</td>\n",
              "      <td>0.506102</td>\n",
              "      <td>-0.338939</td>\n",
              "      <td>1.672543</td>\n",
              "      <td>3.475464</td>\n",
              "      <td>-1.219136</td>\n",
              "      <td>0.012955</td>\n",
              "      <td>3.775174</td>\n",
              "      <td>1.045977</td>\n",
              "      <td>0.568051</td>\n",
              "      <td>0.481928</td>\n",
              "      <td>0.000000</td>\n",
              "      <td>0.448410</td>\n",
              "      <td>0.205356</td>\n",
              "      <td>1.321893</td>\n",
              "      <td>0.377584</td>\n",
              "    </tr>\n",
              "    <tr>\n",
              "      <th>2</th>\n",
              "      <td>1.0</td>\n",
              "      <td>0.444840</td>\n",
              "      <td>-0.134298</td>\n",
              "      <td>-0.709972</td>\n",
              "      <td>0.451719</td>\n",
              "      <td>-1.613871</td>\n",
              "      <td>-0.768661</td>\n",
              "      <td>1.219918</td>\n",
              "      <td>0.504026</td>\n",
              "      <td>1.831248</td>\n",
              "      <td>-0.431385</td>\n",
              "      <td>0.526283</td>\n",
              "      <td>0.941514</td>\n",
              "      <td>1.587535</td>\n",
              "      <td>2.024308</td>\n",
              "      <td>0.603498</td>\n",
              "      <td>1.562374</td>\n",
              "      <td>1.135454</td>\n",
              "      <td>0.180910</td>\n",
              "    </tr>\n",
              "    <tr>\n",
              "      <th>3</th>\n",
              "      <td>1.0</td>\n",
              "      <td>0.381256</td>\n",
              "      <td>-0.976145</td>\n",
              "      <td>0.693152</td>\n",
              "      <td>0.448959</td>\n",
              "      <td>0.891753</td>\n",
              "      <td>-0.677328</td>\n",
              "      <td>2.033060</td>\n",
              "      <td>1.533041</td>\n",
              "      <td>3.046260</td>\n",
              "      <td>-1.005285</td>\n",
              "      <td>0.569386</td>\n",
              "      <td>1.015211</td>\n",
              "      <td>1.582217</td>\n",
              "      <td>1.551914</td>\n",
              "      <td>0.761215</td>\n",
              "      <td>1.715464</td>\n",
              "      <td>1.492257</td>\n",
              "      <td>0.090719</td>\n",
              "    </tr>\n",
              "    <tr>\n",
              "      <th>4</th>\n",
              "      <td>1.0</td>\n",
              "      <td>1.309996</td>\n",
              "      <td>-0.690089</td>\n",
              "      <td>-0.676259</td>\n",
              "      <td>1.589283</td>\n",
              "      <td>-0.693326</td>\n",
              "      <td>0.622907</td>\n",
              "      <td>1.087562</td>\n",
              "      <td>-0.381742</td>\n",
              "      <td>0.589204</td>\n",
              "      <td>1.365479</td>\n",
              "      <td>1.179295</td>\n",
              "      <td>0.968218</td>\n",
              "      <td>0.728563</td>\n",
              "      <td>0.000000</td>\n",
              "      <td>1.083158</td>\n",
              "      <td>0.043429</td>\n",
              "      <td>1.154854</td>\n",
              "      <td>0.094859</td>\n",
              "    </tr>\n",
              "  </tbody>\n",
              "</table>\n",
              "</div>"
            ],
            "text/plain": [
              "    0         1         2         3   ...        15        16        17        18\n",
              "0  0.0  0.972861  0.653855  1.176225  ...  1.932632  0.994464  1.367815  0.040714\n",
              "1  1.0  1.667973  0.064191 -1.225171  ...  0.448410  0.205356  1.321893  0.377584\n",
              "2  1.0  0.444840 -0.134298 -0.709972  ...  0.603498  1.562374  1.135454  0.180910\n",
              "3  1.0  0.381256 -0.976145  0.693152  ...  0.761215  1.715464  1.492257  0.090719\n",
              "4  1.0  1.309996 -0.690089 -0.676259  ...  1.083158  0.043429  1.154854  0.094859\n",
              "\n",
              "[5 rows x 19 columns]"
            ]
          },
          "metadata": {
            "tags": []
          },
          "execution_count": 13
        }
      ]
    },
    {
      "cell_type": "code",
      "metadata": {
        "id": "u_9TtvdqPPYO",
        "colab_type": "code",
        "colab": {}
      },
      "source": [
        "Features=DTSA_DF.drop(columns=[0,12,14,16,17],axis=1)"
      ],
      "execution_count": 0,
      "outputs": []
    },
    {
      "cell_type": "code",
      "metadata": {
        "id": "HywkFmeV8RWA",
        "colab_type": "code",
        "outputId": "fd40291a-d356-40db-c88c-3a36c3a3550d",
        "colab": {
          "base_uri": "https://localhost:8080/",
          "height": 204
        }
      },
      "source": [
        "Features.head()"
      ],
      "execution_count": 0,
      "outputs": [
        {
          "output_type": "execute_result",
          "data": {
            "text/html": [
              "<div>\n",
              "<style scoped>\n",
              "    .dataframe tbody tr th:only-of-type {\n",
              "        vertical-align: middle;\n",
              "    }\n",
              "\n",
              "    .dataframe tbody tr th {\n",
              "        vertical-align: top;\n",
              "    }\n",
              "\n",
              "    .dataframe thead th {\n",
              "        text-align: right;\n",
              "    }\n",
              "</style>\n",
              "<table border=\"1\" class=\"dataframe\">\n",
              "  <thead>\n",
              "    <tr style=\"text-align: right;\">\n",
              "      <th></th>\n",
              "      <th>1</th>\n",
              "      <th>2</th>\n",
              "      <th>3</th>\n",
              "      <th>4</th>\n",
              "      <th>5</th>\n",
              "      <th>6</th>\n",
              "      <th>7</th>\n",
              "      <th>8</th>\n",
              "      <th>9</th>\n",
              "      <th>10</th>\n",
              "      <th>11</th>\n",
              "      <th>13</th>\n",
              "      <th>15</th>\n",
              "      <th>18</th>\n",
              "    </tr>\n",
              "  </thead>\n",
              "  <tbody>\n",
              "    <tr>\n",
              "      <th>0</th>\n",
              "      <td>0.972861</td>\n",
              "      <td>0.653855</td>\n",
              "      <td>1.176225</td>\n",
              "      <td>1.157156</td>\n",
              "      <td>-1.739873</td>\n",
              "      <td>-0.874309</td>\n",
              "      <td>0.567765</td>\n",
              "      <td>-0.175000</td>\n",
              "      <td>0.810061</td>\n",
              "      <td>-0.252552</td>\n",
              "      <td>1.921887</td>\n",
              "      <td>0.410772</td>\n",
              "      <td>1.932632</td>\n",
              "      <td>0.040714</td>\n",
              "    </tr>\n",
              "    <tr>\n",
              "      <th>1</th>\n",
              "      <td>1.667973</td>\n",
              "      <td>0.064191</td>\n",
              "      <td>-1.225171</td>\n",
              "      <td>0.506102</td>\n",
              "      <td>-0.338939</td>\n",
              "      <td>1.672543</td>\n",
              "      <td>3.475464</td>\n",
              "      <td>-1.219136</td>\n",
              "      <td>0.012955</td>\n",
              "      <td>3.775174</td>\n",
              "      <td>1.045977</td>\n",
              "      <td>0.481928</td>\n",
              "      <td>0.448410</td>\n",
              "      <td>0.377584</td>\n",
              "    </tr>\n",
              "    <tr>\n",
              "      <th>2</th>\n",
              "      <td>0.444840</td>\n",
              "      <td>-0.134298</td>\n",
              "      <td>-0.709972</td>\n",
              "      <td>0.451719</td>\n",
              "      <td>-1.613871</td>\n",
              "      <td>-0.768661</td>\n",
              "      <td>1.219918</td>\n",
              "      <td>0.504026</td>\n",
              "      <td>1.831248</td>\n",
              "      <td>-0.431385</td>\n",
              "      <td>0.526283</td>\n",
              "      <td>1.587535</td>\n",
              "      <td>0.603498</td>\n",
              "      <td>0.180910</td>\n",
              "    </tr>\n",
              "    <tr>\n",
              "      <th>3</th>\n",
              "      <td>0.381256</td>\n",
              "      <td>-0.976145</td>\n",
              "      <td>0.693152</td>\n",
              "      <td>0.448959</td>\n",
              "      <td>0.891753</td>\n",
              "      <td>-0.677328</td>\n",
              "      <td>2.033060</td>\n",
              "      <td>1.533041</td>\n",
              "      <td>3.046260</td>\n",
              "      <td>-1.005285</td>\n",
              "      <td>0.569386</td>\n",
              "      <td>1.582217</td>\n",
              "      <td>0.761215</td>\n",
              "      <td>0.090719</td>\n",
              "    </tr>\n",
              "    <tr>\n",
              "      <th>4</th>\n",
              "      <td>1.309996</td>\n",
              "      <td>-0.690089</td>\n",
              "      <td>-0.676259</td>\n",
              "      <td>1.589283</td>\n",
              "      <td>-0.693326</td>\n",
              "      <td>0.622907</td>\n",
              "      <td>1.087562</td>\n",
              "      <td>-0.381742</td>\n",
              "      <td>0.589204</td>\n",
              "      <td>1.365479</td>\n",
              "      <td>1.179295</td>\n",
              "      <td>0.728563</td>\n",
              "      <td>1.083158</td>\n",
              "      <td>0.094859</td>\n",
              "    </tr>\n",
              "  </tbody>\n",
              "</table>\n",
              "</div>"
            ],
            "text/plain": [
              "         1         2         3   ...        13        15        18\n",
              "0  0.972861  0.653855  1.176225  ...  0.410772  1.932632  0.040714\n",
              "1  1.667973  0.064191 -1.225171  ...  0.481928  0.448410  0.377584\n",
              "2  0.444840 -0.134298 -0.709972  ...  1.587535  0.603498  0.180910\n",
              "3  0.381256 -0.976145  0.693152  ...  1.582217  0.761215  0.090719\n",
              "4  1.309996 -0.690089 -0.676259  ...  0.728563  1.083158  0.094859\n",
              "\n",
              "[5 rows x 14 columns]"
            ]
          },
          "metadata": {
            "tags": []
          },
          "execution_count": 15
        }
      ]
    },
    {
      "cell_type": "code",
      "metadata": {
        "id": "0G7rKOEd80VS",
        "colab_type": "code",
        "colab": {}
      },
      "source": [
        "Labels=DTSA_DF[0]"
      ],
      "execution_count": 0,
      "outputs": []
    },
    {
      "cell_type": "code",
      "metadata": {
        "id": "BPgzbKcMDR8h",
        "colab_type": "code",
        "outputId": "bce0d1d3-c94c-4eee-9b5c-58bcf4837c17",
        "colab": {
          "base_uri": "https://localhost:8080/",
          "height": 230
        }
      },
      "source": [
        "Labels"
      ],
      "execution_count": 0,
      "outputs": [
        {
          "output_type": "execute_result",
          "data": {
            "text/plain": [
              "0          0.0\n",
              "1          1.0\n",
              "2          1.0\n",
              "3          1.0\n",
              "4          1.0\n",
              "          ... \n",
              "4999995    1.0\n",
              "4999996    0.0\n",
              "4999997    0.0\n",
              "4999998    1.0\n",
              "4999999    0.0\n",
              "Name: 0, Length: 5000000, dtype: float64"
            ]
          },
          "metadata": {
            "tags": []
          },
          "execution_count": 14
        }
      ]
    },
    {
      "cell_type": "code",
      "metadata": {
        "id": "-dbu9rIyDihj",
        "colab_type": "code",
        "outputId": "d77985a9-a72c-4cf7-a373-baa9434c1b48",
        "colab": {
          "base_uri": "https://localhost:8080/",
          "height": 34
        }
      },
      "source": [
        "print(Features.shape , Labels.shape)"
      ],
      "execution_count": 0,
      "outputs": [
        {
          "output_type": "stream",
          "text": [
            "(5000000, 14) (5000000,)\n"
          ],
          "name": "stdout"
        }
      ]
    },
    {
      "cell_type": "code",
      "metadata": {
        "id": "5UFjKTK9Q8_s",
        "colab_type": "code",
        "colab": {}
      },
      "source": [
        "from sklearn.tree import DecisionTreeClassifier \n",
        "from sklearn.model_selection import train_test_split,StratifiedKFold,cross_validate\n",
        "from sklearn.metrics import confusion_matrix, accuracy_score, precision_score, recall_score, f1_score, roc_auc_score, make_scorer"
      ],
      "execution_count": 0,
      "outputs": []
    },
    {
      "cell_type": "code",
      "metadata": {
        "id": "N5WK3pizRKKU",
        "colab_type": "code",
        "outputId": "98379dfe-8bb2-408c-fe92-180d86e18b54",
        "colab": {
          "base_uri": "https://localhost:8080/",
          "height": 163
        }
      },
      "source": [
        "x_train,x_test,y_train,y_test=train_test_split(Features,Labels,test_size=0.33,random_state=1,shuffle=True)"
      ],
      "execution_count": 0,
      "outputs": [
        {
          "output_type": "error",
          "ename": "NameError",
          "evalue": "ignored",
          "traceback": [
            "\u001b[0;31m---------------------------------------------------------------------------\u001b[0m",
            "\u001b[0;31mNameError\u001b[0m                                 Traceback (most recent call last)",
            "\u001b[0;32m<ipython-input-3-22fe5f5ca640>\u001b[0m in \u001b[0;36m<module>\u001b[0;34m()\u001b[0m\n\u001b[0;32m----> 1\u001b[0;31m \u001b[0mx_train\u001b[0m\u001b[0;34m,\u001b[0m\u001b[0mx_test\u001b[0m\u001b[0;34m,\u001b[0m\u001b[0my_train\u001b[0m\u001b[0;34m,\u001b[0m\u001b[0my_test\u001b[0m\u001b[0;34m=\u001b[0m\u001b[0mtrain_test_split\u001b[0m\u001b[0;34m(\u001b[0m\u001b[0mFeatures\u001b[0m\u001b[0;34m,\u001b[0m\u001b[0mLabels\u001b[0m\u001b[0;34m,\u001b[0m\u001b[0mtest_size\u001b[0m\u001b[0;34m=\u001b[0m\u001b[0;36m0.33\u001b[0m\u001b[0;34m,\u001b[0m\u001b[0mrandom_state\u001b[0m\u001b[0;34m=\u001b[0m\u001b[0;36m1\u001b[0m\u001b[0;34m,\u001b[0m\u001b[0mshuffle\u001b[0m\u001b[0;34m=\u001b[0m\u001b[0;32mTrue\u001b[0m\u001b[0;34m)\u001b[0m\u001b[0;34m\u001b[0m\u001b[0;34m\u001b[0m\u001b[0m\n\u001b[0m",
            "\u001b[0;31mNameError\u001b[0m: name 'Features' is not defined"
          ]
        }
      ]
    },
    {
      "cell_type": "code",
      "metadata": {
        "id": "NSc_qZxBRMf0",
        "colab_type": "code",
        "colab": {}
      },
      "source": [
        "print(x_train.shape,x_test.shape,y_train.shape,y_test.shape)"
      ],
      "execution_count": 0,
      "outputs": []
    },
    {
      "cell_type": "code",
      "metadata": {
        "id": "6qe0dUHbRONf",
        "colab_type": "code",
        "colab": {}
      },
      "source": [
        "for dataset in [y_train,y_test]:\n",
        "    print(round(len(dataset) / len(Labels), 2))"
      ],
      "execution_count": 0,
      "outputs": []
    },
    {
      "cell_type": "code",
      "metadata": {
        "id": "ABKWsF8TRQKn",
        "colab_type": "code",
        "colab": {}
      },
      "source": [
        "DT_SA =DecisionTreeClassifier(criterion=\"gini\", random_state=1)"
      ],
      "execution_count": 0,
      "outputs": []
    },
    {
      "cell_type": "code",
      "metadata": {
        "id": "_e0oxSnHRYoB",
        "colab_type": "code",
        "colab": {}
      },
      "source": [
        "DT_SA.fit(x_train, y_train)"
      ],
      "execution_count": 0,
      "outputs": []
    },
    {
      "cell_type": "code",
      "metadata": {
        "id": "BICupoT4RacW",
        "colab_type": "code",
        "outputId": "ed714b25-22bf-4c63-860b-aa6f1a47b451",
        "colab": {
          "base_uri": "https://localhost:8080/",
          "height": 163
        }
      },
      "source": [
        "Predictions=DT.predict(x_test)"
      ],
      "execution_count": 0,
      "outputs": [
        {
          "output_type": "error",
          "ename": "NameError",
          "evalue": "ignored",
          "traceback": [
            "\u001b[0;31m---------------------------------------------------------------------------\u001b[0m",
            "\u001b[0;31mNameError\u001b[0m                                 Traceback (most recent call last)",
            "\u001b[0;32m<ipython-input-7-5dbe32cab9d3>\u001b[0m in \u001b[0;36m<module>\u001b[0;34m()\u001b[0m\n\u001b[0;32m----> 1\u001b[0;31m \u001b[0mPredictions\u001b[0m\u001b[0;34m=\u001b[0m\u001b[0mDT\u001b[0m\u001b[0;34m.\u001b[0m\u001b[0mpredict\u001b[0m\u001b[0;34m(\u001b[0m\u001b[0mx_test\u001b[0m\u001b[0;34m)\u001b[0m\u001b[0;34m\u001b[0m\u001b[0;34m\u001b[0m\u001b[0m\n\u001b[0m",
            "\u001b[0;31mNameError\u001b[0m: name 'DT' is not defined"
          ]
        }
      ]
    },
    {
      "cell_type": "code",
      "metadata": {
        "id": "NKHKNVs7RcO8",
        "colab_type": "code",
        "colab": {}
      },
      "source": [
        "def plot_confusion_matrix(cm, classes,\n",
        "                          normalize=True,\n",
        "                          title='Confusion matrix',\n",
        "                          cmap=plt.cm.Blues):\n",
        "    \"\"\"\n",
        "    This function prints and plots the confusion matrix.\n",
        "    Normalization can be applied by setting `normalize=True`.\n",
        "    \"\"\"\n",
        "    if normalize:\n",
        "        cm = cm.astype('float') / cm.sum(axis=1)[:, np.newaxis]\n",
        "        print(\"Normalized confusion matrix\")\n",
        "    else:\n",
        "        print('Confusion matrix, without normalization')\n",
        "\n",
        "    print(cm)\n",
        "\n",
        "    plt.imshow(cm, interpolation='nearest', cmap=cmap)\n",
        "    plt.title(title)\n",
        "    plt.colorbar()\n",
        "    tick_marks = np.arange(len(classes))\n",
        "    plt.xticks(tick_marks, classes, rotation=45)\n",
        "    plt.yticks(tick_marks, classes)\n",
        "\n",
        "    fmt = '.2f' if normalize else 'd'\n",
        "    thresh = cm.max() / 2.\n",
        "    for i, j in itertools.product(range(cm.shape[0]), range(cm.shape[1])):\n",
        "        plt.text(j, i, format(cm[i, j], fmt),\n",
        "                 horizontalalignment=\"center\",\n",
        "                 color=\"white\" if cm[i, j] > thresh else \"black\")\n",
        "\n",
        "    plt.ylabel('True label')\n",
        "    plt.xlabel('Predicted label')\n",
        "    plt.tight_layout()\n"
      ],
      "execution_count": 0,
      "outputs": []
    },
    {
      "cell_type": "code",
      "metadata": {
        "id": "01NcwF7wSbUR",
        "colab_type": "code",
        "colab": {}
      },
      "source": [
        "cnf_matrix = confusion_matrix(y_test, Predictions)"
      ],
      "execution_count": 0,
      "outputs": []
    },
    {
      "cell_type": "code",
      "metadata": {
        "id": "xTWkM0XOSeHF",
        "colab_type": "code",
        "outputId": "17afcd0d-cfdd-4210-cf64-3171a877872a",
        "colab": {
          "base_uri": "https://localhost:8080/",
          "height": 348
        }
      },
      "source": [
        "plt.figure()\n",
        "plot_confusion_matrix(cnf_matrix, classes=['MBP','BN'],\n",
        "                      title='Confusion matrix')"
      ],
      "execution_count": 0,
      "outputs": [
        {
          "output_type": "stream",
          "text": [
            "Normalized confusion matrix\n",
            "[[0.73110934 0.26889066]\n",
            " [0.309404   0.690596  ]]\n"
          ],
          "name": "stdout"
        },
        {
          "output_type": "display_data",
          "data": {
            "image/png": "[encoded data removed]",
            "text/plain": [
              "<Figure size 432x288 with 2 Axes>"
            ]
          },
          "metadata": {
            "tags": []
          }
        }
      ]
    },
    {
      "cell_type": "code",
      "metadata": {
        "id": "BIp1Mg0tShY2",
        "colab_type": "code",
        "outputId": "8d580367-0f4d-471d-d88f-811d4837c764",
        "colab": {
          "base_uri": "https://localhost:8080/",
          "height": 87
        }
      },
      "source": [
        "tn, fp, fn, tp = confusion_matrix(y_test, Predictions).ravel()\n",
        "print(\"True Negatives: \",tn)\n",
        "print(\"False Positives: \",fp)\n",
        "print(\"False Negatives: \",fn)\n",
        "print(\"True Positives: \",tp)"
      ],
      "execution_count": 0,
      "outputs": [
        {
          "output_type": "stream",
          "text": [
            "True Negatives:  654057\n",
            "False Positives:  240552\n",
            "False Negatives:  233721\n",
            "True Positives:  521670\n"
          ],
          "name": "stdout"
        }
      ]
    },
    {
      "cell_type": "code",
      "metadata": {
        "id": "dK8rMZTwSkag",
        "colab_type": "code",
        "outputId": "fa615d9d-771f-4e21-ff28-43602ec664dd",
        "colab": {
          "base_uri": "https://localhost:8080/",
          "height": 87
        }
      },
      "source": [
        "Accuracy = (tn+tp)*100/(tp+tn+fp+fn) \n",
        "print(\"Accuracy {:0.2f}%:\".format(Accuracy))\n",
        "\n",
        "Precision = tp/(tp+fp) \n",
        "print(\"Precision {:0.2f}\".format(Precision))\n",
        "\n",
        "\n",
        "Recall = tp/(tp+fn) \n",
        "print(\"Recall {:0.2f}\".format(Recall))\n",
        "\n",
        "\n",
        "f1 = (2*Precision*Recall)/(Precision + Recall)\n",
        "print(\"F1 Score {:0.2f}\".format(f1))"
      ],
      "execution_count": 0,
      "outputs": [
        {
          "output_type": "stream",
          "text": [
            "Accuracy 71.26%:\n",
            "Precision 0.68\n",
            "Recall 0.69\n",
            "F1 Score 0.69\n"
          ],
          "name": "stdout"
        }
      ]
    },
    {
      "cell_type": "code",
      "metadata": {
        "id": "Pvgu3q3bSnCd",
        "colab_type": "code",
        "colab": {}
      },
      "source": [
        "Score1=DT_SA.score(x_test,y_test)"
      ],
      "execution_count": 0,
      "outputs": []
    },
    {
      "cell_type": "code",
      "metadata": {
        "id": "V1DLQch8SrYy",
        "colab_type": "code",
        "colab": {}
      },
      "source": [
        "F_imp=pd.Series(DT_SA.feature_importances_,index=Features.columns)"
      ],
      "execution_count": 0,
      "outputs": []
    },
    {
      "cell_type": "code",
      "metadata": {
        "id": "UrelHKIkSt8D",
        "colab_type": "code",
        "colab": {}
      },
      "source": [
        "nfolds = 10\n",
        "def tn(y_true, Predictions): \n",
        "\treturn confusion_matrix(y_true, Predictions)[0, 0]\n",
        "def fp(y_true, Predictions): \n",
        "\treturn confusion_matrix(y_true, Predictions)[0, 1]\n",
        "def fn(y_true, Predictions): \n",
        "\treturn confusion_matrix(y_true, Predictions)[1, 0]\n",
        "def tp(y_true, Predictions): \n",
        "\treturn confusion_matrix(y_true, Predictions)[1, 1]"
      ],
      "execution_count": 0,
      "outputs": []
    },
    {
      "cell_type": "code",
      "metadata": {
        "id": "Z_amo1ytSwm6",
        "colab_type": "code",
        "colab": {}
      },
      "source": [
        "scoring = {'tp': make_scorer(tp), 'tn': make_scorer(tn),\n",
        "           'fp': make_scorer(fp), 'fn': make_scorer(fn),\n",
        "           'ac' : make_scorer(accuracy_score),\n",
        "           're' : make_scorer(recall_score),\n",
        "           'pr' : make_scorer(precision_score),\n",
        "           'f1' : make_scorer(f1_score),\n",
        "           'auc' : make_scorer(roc_auc_score),\n",
        "          } "
      ],
      "execution_count": 0,
      "outputs": []
    },
    {
      "cell_type": "code",
      "metadata": {
        "id": "tp1QXZbOSyOG",
        "colab_type": "code",
        "colab": {}
      },
      "source": [
        "#cv_results = cross_validate(DT_SA, x_train, y_train, scoring=scoring, cv=StratifiedKFold(n_splits=nfolds, random_state=1))"
      ],
      "execution_count": 0,
      "outputs": []
    },
    {
      "cell_type": "code",
      "metadata": {
        "id": "NUnRQ-YcS1cu",
        "colab_type": "code",
        "outputId": "b016566f-d098-4590-d2d0-242001e27d15",
        "colab": {
          "base_uri": "https://localhost:8080/",
          "height": 283
        }
      },
      "source": [
        "print('Cross Validation scores (nfolds = %d):'% nfolds)\n",
        "print('tp: ', cv_results['test_tp'], '; mean:', cv_results['test_tp'].mean())\n",
        "print('fn: ', cv_results['test_fn'], '; mean:', cv_results['test_fn'].mean())\n",
        "print('fp: ', cv_results['test_fp'], '; mean:', cv_results['test_fp'].mean())\n",
        "print('tn: ', cv_results['test_tn'], '; mean:', cv_results['test_tn'].mean())\n",
        "print('ac: ', cv_results['test_ac'], '; mean:', cv_results['test_ac'].mean())\n",
        "print('re: ', cv_results['test_re'], '; mean:', cv_results['test_re'].mean())\n",
        "print('pr: ', cv_results['test_pr'], '; mean:', cv_results['test_pr'].mean())\n",
        "print('f1: ', cv_results['test_f1'], '; mean:', cv_results['test_f1'].mean())\n",
        "print('auc: ', cv_results['test_auc'], '; mean:', cv_results['test_auc'].mean())"
      ],
      "execution_count": 0,
      "outputs": [
        {
          "output_type": "stream",
          "text": [
            "Cross Validation scores (nfolds = 10):\n",
            "tp:  [105367 105900 105707 105724 106193 105705 105886 106400 105924 105892] ; mean: 105869.8\n",
            "fn:  [47877 47344 47537 47520 47051 47539 47357 46843 47319 47351] ; mean: 47373.8\n",
            "fp:  [48492 48898 48992 48725 49069 48930 49047 49097 49005 49236] ; mean: 48949.1\n",
            "tn:  [133265 132859 132765 133032 132687 132826 132709 132659 132751 132520] ; mean: 132807.3\n",
            "ac:  [0.7123322  0.71271131 0.71185459 0.71270235 0.71307463 0.71203284\n",
            " 0.71222601 0.71361109 0.71246481 0.71167974] ; mean: 0.7124689553376695\n",
            "re:  [0.68757668 0.69105479 0.68979536 0.68990629 0.69296677 0.68978231\n",
            " 0.69096794 0.69432209 0.69121591 0.69100709] ; mean: 0.6908595230567166\n",
            "pr:  [0.68482832 0.68411737 0.68330758 0.68452369 0.68396002 0.68357746\n",
            " 0.6834309  0.68425757 0.68369382 0.68261049] ; mean: 0.6838307220502671\n",
            "f1:  [0.68619974 0.68756858 0.68653614 0.68720445 0.68843394 0.68666587\n",
            " 0.68717875 0.68925309 0.68743429 0.68678313] ; mean: 0.6873257989049705\n",
            "auc:  [0.71039045 0.71101263 0.71012433 0.71091429 0.71149747 0.71028762\n",
            " 0.71055858 0.7120981  0.7107981  0.71005822] ; mean: 0.7107739794495592\n"
          ],
          "name": "stdout"
        }
      ]
    },
    {
      "cell_type": "code",
      "metadata": {
        "id": "mVJO0fMRS3h-",
        "colab_type": "code",
        "colab": {}
      },
      "source": [
        "def evaluate_model(model, features, labels):\n",
        "    pred = model.predict(features)\n",
        "    accuracy = round(accuracy_score(labels, pred), 3)\n",
        "    precision = round(precision_score(labels, pred), 3)\n",
        "    recall = round(recall_score(labels, pred), 3)\n",
        "    print('Accuracy: {} / Precision: {} / Recall: {}'.format(accuracy,precision,recall))\n",
        "                                                                      \n",
        "                                                                                 \n",
        "                                                                                  \n",
        "                                                                      "
      ],
      "execution_count": 0,
      "outputs": []
    },
    {
      "cell_type": "code",
      "metadata": {
        "id": "05jw3Bc0S5ys",
        "colab_type": "code",
        "outputId": "8c508d2b-7267-4e3c-e2c6-f0eafe64b2c7",
        "colab": {
          "base_uri": "https://localhost:8080/",
          "height": 34
        }
      },
      "source": [
        "evaluate_model(DT_SA,x_test,y_test)"
      ],
      "execution_count": 0,
      "outputs": [
        {
          "output_type": "stream",
          "text": [
            "Accuracy: 0.713 / Precision: 0.684 / Recall: 0.691\n"
          ],
          "name": "stdout"
        }
      ]
    },
    {
      "cell_type": "code",
      "metadata": {
        "id": "54OdWxqLS8T2",
        "colab_type": "code",
        "colab": {}
      },
      "source": [
        "import sklearn.metrics as metrics\n",
        "probs = DT_SA.predict_proba(x_test)"
      ],
      "execution_count": 0,
      "outputs": []
    },
    {
      "cell_type": "code",
      "metadata": {
        "id": "A6ENcie-S-Wd",
        "colab_type": "code",
        "colab": {}
      },
      "source": [
        "Predicts = probs[:,1]\n",
        "fpr, tpr, threshold = metrics.roc_curve(y_test, Predicts)\n",
        "roc_auc = metrics.auc(fpr, tpr)"
      ],
      "execution_count": 0,
      "outputs": []
    },
    {
      "cell_type": "code",
      "metadata": {
        "id": "FKJyK8moTD3j",
        "colab_type": "code",
        "outputId": "0ccb50a5-6e8e-4314-bf99-223e2884f93e",
        "colab": {
          "base_uri": "https://localhost:8080/",
          "height": 294
        }
      },
      "source": [
        "import matplotlib.pyplot as plt\n",
        "plt.title('ROC For Selected_DA Using Decision Tree')\n",
        "plt.plot(fpr, tpr, 'b', label = 'AUC = %0.2f' % roc_auc)\n",
        "plt.legend(loc = 'lower right')\n",
        "plt.plot([0, 1], [0, 1],'r--')\n",
        "plt.xlim([0, 1])\n",
        "plt.ylim([0, 1])\n",
        "plt.ylabel('True Positive Rate')\n",
        "plt.xlabel('False Positive Rate')\n",
        "plt.show()"
      ],
      "execution_count": 0,
      "outputs": [
        {
          "output_type": "display_data",
          "data": {
            "image/png": "[encoded data removed]",
            "text/plain": [
              "<Figure size 432x288 with 1 Axes>"
            ]
          },
          "metadata": {
            "tags": []
          }
        }
      ]
    },
    {
      "cell_type": "code",
      "metadata": {
        "id": "XGvSCzY6TFXY",
        "colab_type": "code",
        "colab": {}
      },
      "source": [
        "from sklearn.ensemble import  BaggingClassifier"
      ],
      "execution_count": 0,
      "outputs": []
    },
    {
      "cell_type": "code",
      "metadata": {
        "id": "WM3cJth4VeQQ",
        "colab_type": "code",
        "colab": {}
      },
      "source": [
        "BSA_DT=BaggingClassifier(base_estimator=DT_SA, n_estimators=10, random_state=1)"
      ],
      "execution_count": 0,
      "outputs": []
    },
    {
      "cell_type": "code",
      "metadata": {
        "id": "sfUul9QuVi0L",
        "colab_type": "code",
        "outputId": "e63e31fb-5e4c-409b-9331-c4611b285ec4",
        "colab": {
          "base_uri": "https://localhost:8080/",
          "height": 301
        }
      },
      "source": [
        "print(BSA_DT)"
      ],
      "execution_count": 0,
      "outputs": [
        {
          "output_type": "stream",
          "text": [
            "BaggingClassifier(base_estimator=DecisionTreeClassifier(class_weight=None,\n",
            "                                                        criterion='gini',\n",
            "                                                        max_depth=None,\n",
            "                                                        max_features=None,\n",
            "                                                        max_leaf_nodes=None,\n",
            "                                                        min_impurity_decrease=0.0,\n",
            "                                                        min_impurity_split=None,\n",
            "                                                        min_samples_leaf=1,\n",
            "                                                        min_samples_split=2,\n",
            "                                                        min_weight_fraction_leaf=0.0,\n",
            "                                                        presort=False,\n",
            "                                                        random_state=1,\n",
            "                                                        splitter='best'),\n",
            "                  bootstrap=True, bootstrap_features=False, max_features=1.0,\n",
            "                  max_samples=1.0, n_estimators=10, n_jobs=None,\n",
            "                  oob_score=False, random_state=1, verbose=0, warm_start=False)\n"
          ],
          "name": "stdout"
        }
      ]
    },
    {
      "cell_type": "code",
      "metadata": {
        "id": "zy8gz4laVkar",
        "colab_type": "code",
        "outputId": "c72b2645-6cd0-4456-f965-0222034eecee",
        "colab": {
          "base_uri": "https://localhost:8080/",
          "height": 301
        }
      },
      "source": [
        "BSA_DT.fit(x_train,y_train)"
      ],
      "execution_count": 0,
      "outputs": [
        {
          "output_type": "execute_result",
          "data": {
            "text/plain": [
              "BaggingClassifier(base_estimator=DecisionTreeClassifier(class_weight=None,\n",
              "                                                        criterion='gini',\n",
              "                                                        max_depth=None,\n",
              "                                                        max_features=None,\n",
              "                                                        max_leaf_nodes=None,\n",
              "                                                        min_impurity_decrease=0.0,\n",
              "                                                        min_impurity_split=None,\n",
              "                                                        min_samples_leaf=1,\n",
              "                                                        min_samples_split=2,\n",
              "                                                        min_weight_fraction_leaf=0.0,\n",
              "                                                        presort=False,\n",
              "                                                        random_state=1,\n",
              "                                                        splitter='best'),\n",
              "                  bootstrap=True, bootstrap_features=False, max_features=1.0,\n",
              "                  max_samples=1.0, n_estimators=10, n_jobs=None,\n",
              "                  oob_score=False, random_state=1, verbose=0, warm_start=False)"
            ]
          },
          "metadata": {
            "tags": []
          },
          "execution_count": 26
        }
      ]
    },
    {
      "cell_type": "code",
      "metadata": {
        "id": "nPEI7kW2TybN",
        "colab_type": "code",
        "colab": {}
      },
      "source": [
        "Predictions_BSA_DT=BSA_DT.predict(x_test)"
      ],
      "execution_count": 0,
      "outputs": []
    },
    {
      "cell_type": "code",
      "metadata": {
        "id": "u-l33v8F81VY",
        "colab_type": "code",
        "outputId": "113cbefc-211d-415c-f386-4a27e53c8cb8",
        "colab": {
          "base_uri": "https://localhost:8080/",
          "height": 34
        }
      },
      "source": [
        "Predictions_BSA_DT"
      ],
      "execution_count": 0,
      "outputs": [
        {
          "output_type": "execute_result",
          "data": {
            "text/plain": [
              "array([0., 0., 1., ..., 0., 1., 1.])"
            ]
          },
          "metadata": {
            "tags": []
          },
          "execution_count": 28
        }
      ]
    },
    {
      "cell_type": "code",
      "metadata": {
        "id": "0MHMmoC5UZ0y",
        "colab_type": "code",
        "colab": {}
      },
      "source": [
        "cnf_matrix = confusion_matrix(y_test, Predictions)"
      ],
      "execution_count": 0,
      "outputs": []
    },
    {
      "cell_type": "code",
      "metadata": {
        "id": "aQAnR17cUb5n",
        "colab_type": "code",
        "outputId": "42ebf14a-2149-4ba6-f42e-38a1a656e6fb",
        "colab": {
          "base_uri": "https://localhost:8080/",
          "height": 348
        }
      },
      "source": [
        "plt.figure()\n",
        "plot_confusion_matrix(cnf_matrix, classes=['MBP','BN'],\n",
        "                      title='Confusion matrix, with normalization')"
      ],
      "execution_count": 0,
      "outputs": [
        {
          "output_type": "stream",
          "text": [
            "Normalized confusion matrix\n",
            "[[0.86863758 0.13136242]\n",
            " [0.32378861 0.67621139]]\n"
          ],
          "name": "stdout"
        },
        {
          "output_type": "display_data",
          "data": {
            "image/png": "[encoded data removed]",
            "text/plain": [
              "<Figure size 432x288 with 2 Axes>"
            ]
          },
          "metadata": {
            "tags": []
          }
        }
      ]
    },
    {
      "cell_type": "code",
      "metadata": {
        "id": "KZVcB253Ud6D",
        "colab_type": "code",
        "outputId": "411e7ced-8acb-4a4d-93bc-30f0ae3f67db",
        "colab": {
          "base_uri": "https://localhost:8080/",
          "height": 87
        }
      },
      "source": [
        "tn, fp, fn, tp = confusion_matrix(y_test, Predictions).ravel()\n",
        "print(\"True Negatives: \",tn)\n",
        "print(\"False Positives: \",fp)\n",
        "print(\"False Negatives: \",fn)\n",
        "print(\"True Positives: \",tp)"
      ],
      "execution_count": 0,
      "outputs": [
        {
          "output_type": "stream",
          "text": [
            "True Negatives:  777091\n",
            "False Positives:  117518\n",
            "False Negatives:  244587\n",
            "True Positives:  510804\n"
          ],
          "name": "stdout"
        }
      ]
    },
    {
      "cell_type": "code",
      "metadata": {
        "id": "Axs7gk4QUged",
        "colab_type": "code",
        "outputId": "d6337357-f0c9-4281-a867-075554e7667f",
        "colab": {
          "base_uri": "https://localhost:8080/",
          "height": 87
        }
      },
      "source": [
        "Accuracy = (tn+tp)*100/(tp+tn+fp+fn) \n",
        "print(\"Accuracy {:0.2f}%:\".format(Accuracy))\n",
        "\n",
        "Precision = tp/(tp+fp) \n",
        "print(\"Precision {:0.2f}\".format(Precision))\n",
        "\n",
        "#Recall \n",
        "Recall = tp/(tp+fn) \n",
        "print(\"Recall {:0.2f}\".format(Recall))\n",
        "\n",
        "#F1 Score\n",
        "f1 = (2*Precision*Recall)/(Precision + Recall)\n",
        "print(\"F1 Score {:0.2f}\".format(f1))"
      ],
      "execution_count": 0,
      "outputs": [
        {
          "output_type": "stream",
          "text": [
            "Accuracy 78.05%:\n",
            "Precision 0.81\n",
            "Recall 0.68\n",
            "F1 Score 0.74\n"
          ],
          "name": "stdout"
        }
      ]
    },
    {
      "cell_type": "code",
      "metadata": {
        "id": "E4ODs9EqUihm",
        "colab_type": "code",
        "colab": {}
      },
      "source": [
        "Score2=BSA_DT.score(x_test,y_test)"
      ],
      "execution_count": 0,
      "outputs": []
    },
    {
      "cell_type": "code",
      "metadata": {
        "id": "njRqo4utUuPx",
        "colab_type": "code",
        "colab": {}
      },
      "source": [
        "nfolds = 10\n",
        "def tn(y_true, Predictions): \n",
        "\treturn confusion_matrix(y_true, Predictions)[0, 0]\n",
        "def fp(y_true, Predictions): \n",
        "\treturn confusion_matrix(y_true, Predictions)[0, 1]\n",
        "def fn(y_true, Predictions): \n",
        "\treturn confusion_matrix(y_true, Predictions)[1, 0]\n",
        "def tp(y_true, Predictions): \n",
        "\treturn confusion_matrix(y_true, Predictions)[1, 1]"
      ],
      "execution_count": 0,
      "outputs": []
    },
    {
      "cell_type": "code",
      "metadata": {
        "id": "SSDawnieUws2",
        "colab_type": "code",
        "colab": {}
      },
      "source": [
        "scoring = {'tp': make_scorer(tp), 'tn': make_scorer(tn),\n",
        "           'fp': make_scorer(fp), 'fn': make_scorer(fn),\n",
        "           'ac' : make_scorer(accuracy_score),\n",
        "           're' : make_scorer(recall_score),\n",
        "           'pr' : make_scorer(precision_score),\n",
        "           'f1' : make_scorer(f1_score),\n",
        "           'auc' : make_scorer(roc_auc_score),\n",
        "          } "
      ],
      "execution_count": 0,
      "outputs": []
    },
    {
      "cell_type": "code",
      "metadata": {
        "id": "MAMAgvfDEEFt",
        "colab_type": "code",
        "colab": {}
      },
      "source": [
        "import sklearn.metrics as metrics\n",
        "probs = BSA_DT.predict_proba(x_test)"
      ],
      "execution_count": 0,
      "outputs": []
    },
    {
      "cell_type": "code",
      "metadata": {
        "id": "yp2C0gyAD9pS",
        "colab_type": "code",
        "colab": {}
      },
      "source": [
        "Predicts = probs[:,1]\n",
        "fpr, tpr, threshold = metrics.roc_curve(y_test, Predictions)\n",
        "roc_auc = metrics.auc(fpr, tpr)"
      ],
      "execution_count": 0,
      "outputs": []
    },
    {
      "cell_type": "code",
      "metadata": {
        "id": "jq_KjZecEYDg",
        "colab_type": "code",
        "outputId": "117e7be7-1f9d-4f3c-f97a-a51553de02c0",
        "colab": {
          "base_uri": "https://localhost:8080/",
          "height": 294
        }
      },
      "source": [
        "import matplotlib.pyplot as plt\n",
        "plt.title('ROC For Selected_DA Using Bagging Decision Tree')\n",
        "plt.plot(fpr, tpr, 'b', label = 'AUC = %0.2f' % roc_auc)\n",
        "plt.legend(loc = 'lower right')\n",
        "plt.plot([0, 1], [0, 1],'r--')\n",
        "plt.xlim([0, 1])\n",
        "plt.ylim([0, 1])\n",
        "plt.ylabel('True Positive Rate')\n",
        "plt.xlabel('False Positive Rate')\n",
        "plt.show()"
      ],
      "execution_count": 0,
      "outputs": [
        {
          "output_type": "display_data",
          "data": {
            "image/png": "[encoded data removed]",
            "text/plain": [
              "<Figure size 432x288 with 1 Axes>"
            ]
          },
          "metadata": {
            "tags": []
          }
        }
      ]
    },
    {
      "cell_type": "code",
      "metadata": {
        "id": "hEB8uchpVAVE",
        "colab_type": "code",
        "colab": {}
      },
      "source": [
        "cv_results = cross_validate(BSA_DT, x_train, y_train, scoring=scoring, cv=StratifiedKFold(n_splits=nfolds, random_state=1))"
      ],
      "execution_count": 0,
      "outputs": []
    },
    {
      "cell_type": "code",
      "metadata": {
        "id": "FziYGMM4-z1u",
        "colab_type": "code",
        "outputId": "d1e06921-f002-4fc9-a628-1c48a8db9168",
        "colab": {
          "base_uri": "https://localhost:8080/",
          "height": 283
        }
      },
      "source": [
        "print('Cross Validation scores (nfolds = %d):'% nfolds)\n",
        "print('tp: ', cv_results['test_tp'], '; mean:', cv_results['test_tp'].mean())\n",
        "print('fn: ', cv_results['test_fn'], '; mean:', cv_results['test_fn'].mean())\n",
        "print('fp: ', cv_results['test_fp'], '; mean:', cv_results['test_fp'].mean())\n",
        "print('tn: ', cv_results['test_tn'], '; mean:', cv_results['test_tn'].mean())\n",
        "print('ac: ', cv_results['test_ac'], '; mean:', cv_results['test_ac'].mean())\n",
        "print('re: ', cv_results['test_re'], '; mean:', cv_results['test_re'].mean())\n",
        "print('pr: ', cv_results['test_pr'], '; mean:', cv_results['test_pr'].mean())\n",
        "print('f1: ', cv_results['test_f1'], '; mean:', cv_results['test_f1'].mean())\n",
        "print('auc: ', cv_results['test_auc'], '; mean:', cv_results['test_auc'].mean())"
      ],
      "execution_count": 0,
      "outputs": [
        {
          "output_type": "stream",
          "text": [
            "Cross Validation scores (nfolds = 10):\n",
            "tp:  [103304 103638 103564 103385 103835 103420 103499 104012 103833 103660] ; mean: 103615.0\n",
            "fn:  [49940 49606 49680 49859 49409 49824 49744 49231 49410 49583] ; mean: 49628.6\n",
            "fp:  [23793 24269 24205 24095 23881 24032 24046 24115 24080 24267] ; mean: 24078.3\n",
            "tn:  [157964 157488 157552 157662 157875 157724 157710 157641 157676 157489] ; mean: 157678.1\n",
            "ac:  [0.77990215 0.77947827 0.77944842 0.77924245 0.78122388 0.77953433\n",
            " 0.77973069 0.78105606 0.78062621 0.77955158] ; mean: 0.7799794038487315\n",
            "re:  [0.67411448 0.67629401 0.67581112 0.67464305 0.67757955 0.67487145\n",
            " 0.67539137 0.678739   0.67757092 0.67644199] ; mean: 0.6761456945415649\n",
            "pr:  [0.81279653 0.81026058 0.81055655 0.81098996 0.81301481 0.81144274\n",
            " 0.81147046 0.8117883  0.81174705 0.81030588] ; mean: 0.8114372858862389\n",
            "f1:  [0.73698817 0.73724084 0.73707622 0.73655975 0.73914436 0.73688261\n",
            " 0.73720387 0.73932544 0.73861486 0.73734751] ; mean: 0.7376383637842996\n",
            "auc:  [0.77160447 0.77138479 0.77131941 0.77103797 0.77309456 0.77132511\n",
            " 0.77154656 0.77303056 0.7725428  0.77146391] ; mean: 0.7718350147286386\n"
          ],
          "name": "stdout"
        }
      ]
    },
    {
      "cell_type": "markdown",
      "metadata": {
        "id": "LocRA7EK-0cT",
        "colab_type": "text"
      },
      "source": [
        "**Hypothesis Testing**"
      ]
    },
    {
      "cell_type": "code",
      "metadata": {
        "id": "OXIX8-HNABaj",
        "colab_type": "code",
        "outputId": "b9f85d42-2db8-4869-8352-d10a6fd08425",
        "colab": {
          "base_uri": "https://localhost:8080/",
          "height": 52
        }
      },
      "source": [
        "print('Decision Tree accuracy: %.2f%%' % (Score1*100))\n",
        "print('Bagging Decision tree accuracy: %.2f%%' % (Score2*100))"
      ],
      "execution_count": 0,
      "outputs": [
        {
          "output_type": "stream",
          "text": [
            "Decision Tree accuracy: 71.26%\n",
            "Bagging Decision tree accuracy: 78.05%\n"
          ],
          "name": "stdout"
        }
      ]
    },
    {
      "cell_type": "code",
      "metadata": {
        "id": "bL-wDwTABR0D",
        "colab_type": "code",
        "colab": {}
      },
      "source": [
        "from mlxtend.evaluate import paired_ttest_kfold_cv,paired_ttest_5x2cv"
      ],
      "execution_count": 0,
      "outputs": []
    },
    {
      "cell_type": "code",
      "metadata": {
        "id": "tzRYcOYTBwZR",
        "colab_type": "code",
        "colab": {}
      },
      "source": [
        "t,p=paired_ttest_5x2cv(estimator1=DT_SA,estimator2=BSA_DT,X=Features,y=Labels)"
      ],
      "execution_count": 0,
      "outputs": []
    },
    {
      "cell_type": "code",
      "metadata": {
        "id": "1DGu0dgzJ5qw",
        "colab_type": "code",
        "colab": {}
      },
      "source": [
        ""
      ],
      "execution_count": 0,
      "outputs": []
    }
  ]
}